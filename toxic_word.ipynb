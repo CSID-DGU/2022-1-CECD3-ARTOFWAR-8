{
  "nbformat": 4,
  "nbformat_minor": 0,
  "metadata": {
    "colab": {
      "name": "toxic_word.ipynb",
      "provenance": [],
      "authorship_tag": "ABX9TyOx3238IF1TqmzkR4y5r8/5",
      "include_colab_link": true
    },
    "kernelspec": {
      "name": "python3",
      "display_name": "Python 3"
    },
    "language_info": {
      "name": "python"
    }
  },
  "cells": [
    {
      "cell_type": "markdown",
      "metadata": {
        "id": "view-in-github",
        "colab_type": "text"
      },
      "source": [
        "<a href=\"https://colab.research.google.com/github/CSID-DGU/2022-1-CECD3-ARTOFWAR-8/blob/main/toxic_word.ipynb\" target=\"_parent\"><img src=\"https://colab.research.google.com/assets/colab-badge.svg\" alt=\"Open In Colab\"/></a>"
      ]
    },
    {
      "cell_type": "markdown",
      "source": [
        "생각\n",
        "1. stt된 문장을 토큰화함\n",
        "2. 토큰화된 문장에서 명사만 추출 (or 동사도 포함)\n",
        "3. 추출된 단어 리스트에서 비속어가 포함되어있는지 판별\n",
        "\n",
        "  3-1. 진짜 있는 그대로 단어가 존재하는지 판단\n",
        "\n",
        "  3-2. 오타가 있을 수도 있으니까 비슷한 단어가 있는지 판단\n",
        "      -> 이때, 코사인 유사도로 판단..\n",
        "      \n",
        "      -> 단어를 사전형태로 정리해두었으므로, 이를 기준으로 판단..?\n",
        "      \n",
        "      -> 다만, 한국어에서 자음이나 모음 하나 차이로 의미가 바뀌는 경우가 있으므로 부적절하지 않나....?싶음\n",
        "\n",
        "      "
      ],
      "metadata": {
        "id": "SmVZehhB9DuN"
      }
    },
    {
      "cell_type": "code",
      "source": [
        "from google.colab import drive\n",
        "drive.mount('/content/drive')\n",
        "drive.mount('/project')"
      ],
      "metadata": {
        "colab": {
          "base_uri": "https://localhost:8080/"
        },
        "id": "RsG2LctBJLSJ",
        "outputId": "3452cb5b-8b44-4a09-8e4f-ad6f408118a0"
      },
      "execution_count": null,
      "outputs": [
        {
          "output_type": "stream",
          "name": "stdout",
          "text": [
            "Mounted at /content/drive\n",
            "Mounted at /project\n"
          ]
        }
      ]
    },
    {
      "cell_type": "code",
      "source": [
        "#비속어 리스트가 들어있는 파일 읽기\n",
        "f=open('/project/MyDrive/project/fword_list.txt','r')\n",
        "\n",
        "badwords=f.read()\n",
        "\n",
        "print(badwords)\n",
        "f.close()"
      ],
      "metadata": {
        "colab": {
          "base_uri": "https://localhost:8080/"
        },
        "id": "_x8btK0bJUMP",
        "outputId": "6fecae85-feda-4944-ae30-140f6fc2f7ff"
      },
      "execution_count": null,
      "outputs": [
        {
          "output_type": "stream",
          "name": "stdout",
          "text": [
            "18년\n",
            "18놈\n",
            "18새끼\n",
            "ㄱㅐㅅㅐㄲl\n",
            "ㄱㅐㅈㅏ\n",
            "가슴만져\n",
            "가슴빨아\n",
            "가슴빨어\n",
            "가슴조물락\n",
            "가슴주물럭\n",
            "가슴쪼물딱\n",
            "가슴쪼물락\n",
            "가슴핧아\n",
            "가슴핧어\n",
            "강간\n",
            "개가튼년\n",
            "개가튼뇬\n",
            "개같은년\n",
            "개걸레\n",
            "개고치\n",
            "개너미\n",
            "개넘\n",
            "개년\n",
            "개놈\n",
            "개늠\n",
            "개똥\n",
            "개떵\n",
            "개떡\n",
            "개라슥\n",
            "개보지\n",
            "개부달\n",
            "개부랄\n",
            "개불랄\n",
            "개붕알\n",
            "개새\n",
            "개세\n",
            "개쓰래기\n",
            "개쓰레기\n",
            "개씁년\n",
            "개씁블\n",
            "개씁자지\n",
            "개씨발\n",
            "개씨블\n",
            "개자식\n",
            "개자지\n",
            "개잡년\n",
            "개젓가튼넘\n",
            "개좆\n",
            "개지랄\n",
            "개후라년\n",
            "개후라들놈\n",
            "개후라새끼\n",
            "걔잡년\n",
            "거시기\n",
            "걸래년\n",
            "걸레같은년\n",
            "걸레년\n",
            "걸레핀년\n",
            "게부럴\n",
            "게세끼\n",
            "게이\n",
            "게새끼\n",
            "게늠\n",
            "게자식\n",
            "게지랄놈\n",
            "고환\n",
            "귀두\n",
            "깨쌔끼\n",
            "난자마셔\n",
            "난자먹어\n",
            "난자핧아\n",
            "내꺼빨아\n",
            "내꺼핧아\n",
            "내버지\n",
            "내자지\n",
            "내잠지\n",
            "내조지\n",
            "너거애비\n",
            "노옴\n",
            "누나강간\n",
            "니기미\n",
            "니뿡\n",
            "니뽕\n",
            "니씨브랄\n",
            "니아범\n",
            "니아비\n",
            "니애미\n",
            "니애뷔\n",
            "니애비\n",
            "니할애비\n",
            "닝기미\n",
            "닌기미\n",
            "니미\n",
            "닳은년\n",
            "덜은새끼\n",
            "돌으년\n",
            "돌은넘\n",
            "돌은새끼\n",
            "동생강간\n",
            "딸딸이\n",
            "똥구녁\n",
            "똥꾸뇽\n",
            "똥구뇽\n",
            "똥\n",
            "띠발뇬\n",
            "띠팔\n",
            "띠펄\n",
            "띠풀\n",
            "띠벌\n",
            "띠벨\n",
            "띠빌\n",
            "막간년\n",
            "막대쑤셔줘\n",
            "막대핧아줘\n",
            "맛간년\n",
            "맛없는년\n",
            "맛이간년\n",
            "멜리스\n",
            "미친구녕\n",
            "미친구멍\n",
            "미친넘\n",
            "미친년\n",
            "미친놈\n",
            "미친눔\n",
            "미친새끼\n",
            "미친쇄리\n",
            "미친쇠리\n",
            "미친쉐이\n",
            "미친씨부랄\n",
            "미튄\n",
            "미티넘\n",
            "미틴\n",
            "미틴넘\n",
            "미틴년\n",
            "미틴놈\n",
            "미틴것\n",
            "백보지\n",
            "버따리자지\n",
            "버지구녕\n",
            "버지구멍\n",
            "버지냄새\n",
            "버지따먹기\n",
            "버지뚫어\n",
            "버지뜨더\n",
            "버지물마셔\n",
            "버지벌려\n",
            "버지벌료\n",
            "버지빨아\n",
            "버지빨어\n",
            "버지썰어\n",
            "버지쑤셔\n",
            "버지털\n",
            "버지핧아\n",
            "버짓물\n",
            "버짓물마셔\n",
            "벌창같은년\n",
            "벵신\n",
            "병닥\n",
            "병딱\n",
            "병신\n",
            "보쥐\n",
            "보지\n",
            "보지핧어\n",
            "보짓물\n",
            "보짓물마셔\n",
            "봉알\n",
            "부랄\n",
            "불알\n",
            "붕알\n",
            "붜지\n",
            "뷩딱\n",
            "븅쉰\n",
            "븅신\n",
            "빙띤\n",
            "빙신\n",
            "빠가십새\n",
            "빠가씹새\n",
            "빠구리\n",
            "빠굴이\n",
            "뻑큐\n",
            "뽕알\n",
            "뽀지\n",
            "뼝신\n",
            "사까시\n",
            "상년\n",
            "새꺄\n",
            "새뀌\n",
            "새끼\n",
            "색갸\n",
            "색끼\n",
            "색스\n",
            "색키\n",
            "샤발\n",
            "써글\n",
            "써글년\n",
            "성교\n",
            "성폭행\n",
            "세꺄\n",
            "세끼\n",
            "섹스\n",
            "섹스하자\n",
            "섹스해\n",
            "섹쓰\n",
            "섹히\n",
            "수셔\n",
            "쑤셔\n",
            "쉐끼\n",
            "쉑갸\n",
            "쉑쓰\n",
            "쉬발\n",
            "쉬방\n",
            "쉬밸년\n",
            "쉬벌\n",
            "쉬불\n",
            "쉬붕\n",
            "쉬빨\n",
            "쉬이발\n",
            "쉬이방\n",
            "쉬이벌\n",
            "쉬이불\n",
            "쉬이붕\n",
            "쉬이빨\n",
            "쉬이팔\n",
            "쉬이펄\n",
            "쉬이풀\n",
            "쉬팔\n",
            "쉬펄\n",
            "쉬풀\n",
            "쉽쌔\n",
            "시댕이\n",
            "시발\n",
            "시발년\n",
            "시발놈\n",
            "시발새끼\n",
            "시방새\n",
            "시밸\n",
            "시벌\n",
            "시불\n",
            "시붕\n",
            "시이발\n",
            "시이벌\n",
            "시이불\n",
            "시이붕\n",
            "시이팔\n",
            "시이펄\n",
            "시이풀\n",
            "시팍새끼\n",
            "시팔\n",
            "시팔넘\n",
            "시팔년\n",
            "시팔놈\n",
            "시팔새끼\n",
            "시펄\n",
            "실프\n",
            "십8\n",
            "십때끼\n",
            "십떼끼\n",
            "십버지\n",
            "십부랄\n",
            "십부럴\n",
            "십새\n",
            "십세이\n",
            "십셰리\n",
            "십쉐\n",
            "십자석\n",
            "십자슥\n",
            "십지랄\n",
            "십창녀\n",
            "십창\n",
            "십탱\n",
            "십탱구리\n",
            "십탱굴이\n",
            "십팔새끼\n",
            "ㅆㅂ\n",
            "ㅆㅂㄹㅁ\n",
            "ㅆㅂㄻ\n",
            "ㅆㅣ\n",
            "쌍넘\n",
            "쌍년\n",
            "쌍놈\n",
            "쌍눔\n",
            "쌍보지\n",
            "쌔끼\n",
            "쌔리\n",
            "쌕스\n",
            "쌕쓰\n",
            "썅년\n",
            "썅놈\n",
            "썅뇬\n",
            "썅늠\n",
            "쓉새\n",
            "쓰바새끼\n",
            "쓰브랄쉽세\n",
            "씌발\n",
            "씌팔\n",
            "씨가랭넘\n",
            "씨가랭년\n",
            "씨가랭놈\n",
            "씨발\n",
            "씨발년\n",
            "씨발롬\n",
            "씨발병신\n",
            "씨방새\n",
            "씨방세\n",
            "씨밸\n",
            "씨뱅가리\n",
            "씨벌\n",
            "씨벌년\n",
            "씨벌쉐이\n",
            "씨부랄\n",
            "씨부럴\n",
            "씨불\n",
            "씨불알\n",
            "씨붕\n",
            "씨브럴\n",
            "씨블\n",
            "씨블년\n",
            "씨븡새끼\n",
            "씨빨\n",
            "씨이발\n",
            "씨이벌\n",
            "씨이불\n",
            "씨이붕\n",
            "씨이팔\n",
            "씨파넘\n",
            "씨팍새끼\n",
            "씨팍세끼\n",
            "씨팔\n",
            "씨펄\n",
            "씨퐁넘\n",
            "씨퐁뇬\n",
            "씨퐁보지\n",
            "씨퐁자지\n",
            "씹년\n",
            "씹물\n",
            "씹미랄\n",
            "씹버지\n",
            "씹보지\n",
            "씹부랄\n",
            "씹브랄\n",
            "씹빵구\n",
            "씹뽀지\n",
            "씹새\n",
            "씹새끼\n",
            "씹세\n",
            "씹쌔끼\n",
            "씹자석\n",
            "씹자슥\n",
            "씹자지\n",
            "씹지랄\n",
            "씹창\n",
            "씹창녀\n",
            "씹탱\n",
            "씹탱굴이\n",
            "씹탱이\n",
            "씹팔\n",
            "아가리\n",
            "애무\n",
            "애미\n",
            "애미랄\n",
            "애미보지\n",
            "애미씨뱅\n",
            "애미자지\n",
            "애미잡년\n",
            "애미좃물\n",
            "애비\n",
            "애자\n",
            "양아치\n",
            "어미강간\n",
            "어미따먹자\n",
            "어미쑤시자\n",
            "영자\n",
            "엄창\n",
            "에미\n",
            "에비\n",
            "엔플레버\n",
            "엠플레버\n",
            "염병\n",
            "염병할\n",
            "염뵹\n",
            "엿먹어라\n",
            "오랄\n",
            "오르가즘\n",
            "왕버지\n",
            "왕자지\n",
            "왕잠지\n",
            "왕털버지\n",
            "왕털보지\n",
            "왕털자지\n",
            "왕털잠지\n",
            "우미쑤셔\n",
            "운디네\n",
            "운영자\n",
            "유두\n",
            "유두빨어\n",
            "유두핧어\n",
            "유방\n",
            "유방만져\n",
            "유방빨아\n",
            "유방주물럭\n",
            "유방쪼물딱\n",
            "유방쪼물럭\n",
            "유방핧아\n",
            "유방핧어\n",
            "육갑\n",
            "이그니스\n",
            "이년\n",
            "이프리트\n",
            "자기핧아\n",
            "자지\n",
            "자지구녕\n",
            "자지구멍\n",
            "자지꽂아\n",
            "자지넣자\n",
            "자지뜨더\n",
            "자지뜯어\n",
            "자지박어\n",
            "자지빨아\n",
            "자지빨아줘\n",
            "자지빨어\n",
            "자지쑤셔\n",
            "자지쓰레기\n",
            "자지정개\n",
            "자지짤라\n",
            "자지털\n",
            "자지핧아\n",
            "자지핧아줘\n",
            "자지핧어\n",
            "작은보지\n",
            "잠지\n",
            "잠지뚫어\n",
            "잠지물마셔\n",
            "잠지털\n",
            "잠짓물마셔\n",
            "잡년\n",
            "잡놈\n",
            "저년\n",
            "점물\n",
            "젓가튼\n",
            "젓가튼쉐이\n",
            "젓같내\n",
            "젓같은\n",
            "젓까\n",
            "젓나\n",
            "젓냄새\n",
            "젓대가리\n",
            "젓떠\n",
            "젓마무리\n",
            "젓만이\n",
            "젓물\n",
            "젓물냄새\n",
            "젓밥\n",
            "정액마셔\n",
            "정액먹어\n",
            "정액발사\n",
            "정액짜\n",
            "정액핧아\n",
            "정자마셔\n",
            "정자먹어\n",
            "정자핧아\n",
            "젖같은\n",
            "젖까\n",
            "젖밥\n",
            "젖탱이\n",
            "조개넓은년\n",
            "조개따조\n",
            "조개마셔줘\n",
            "조개벌려조\n",
            "조개속물\n",
            "조개쑤셔줘\n",
            "조개핧아줘\n",
            "조까\n",
            "조또\n",
            "족같내\n",
            "족까\n",
            "족까내\n",
            "존나\n",
            "존나게\n",
            "존니\n",
            "졸라\n",
            "좀마니\n",
            "좀물\n",
            "좀쓰레기\n",
            "좁빠라라\n",
            "좃가튼뇬\n",
            "좃간년\n",
            "좃까\n",
            "좃까리\n",
            "좃깟네\n",
            "좃냄새\n",
            "좃넘\n",
            "좃대가리\n",
            "좃도\n",
            "좃또\n",
            "좃만아\n",
            "좃만이\n",
            "좃만한것\n",
            "좃만한쉐이\n",
            "좃물\n",
            "좃물냄새\n",
            "좃보지\n",
            "좃부랄\n",
            "좃빠구리\n",
            "좃빠네\n",
            "좃빠라라\n",
            "좃털\n",
            "좆같은놈\n",
            "좆같은새끼\n",
            "좆까\n",
            "좆까라\n",
            "좆나\n",
            "좆년\n",
            "좆도\n",
            "좆만아\n",
            "좆만한년\n",
            "좆만한놈\n",
            "좆만한새끼\n",
            "좆먹어\n",
            "좆물\n",
            "좆밥\n",
            "좆빨아\n",
            "좆새끼\n",
            "좆털\n",
            "좋만한것\n",
            "주글년\n",
            "주길년\n",
            "쥐랄\n",
            "지랄\n",
            "지랼\n",
            "지럴\n",
            "지뢀\n",
            "쪼까튼\n",
            "쪼다\n",
            "쪼다새끼\n",
            "찌랄\n",
            "찌질이\n",
            "창남\n",
            "창녀\n",
            "창녀버지\n",
            "창년\n",
            "처먹고\n",
            "처먹을\n",
            "쳐먹고\n",
            "쳐쑤셔박어\n",
            "촌씨브라리\n",
            "촌씨브랑이\n",
            "촌씨브랭이\n",
            "크리토리스\n",
            "큰보지\n",
            "클리토리스\n",
            "트랜스젠더\n",
            "페니스\n",
            "항문수셔\n",
            "항문쑤셔\n",
            "허덥\n",
            "허버리년\n",
            "허벌년\n",
            "허벌보지\n",
            "허벌자식\n",
            "허벌자지\n",
            "허젚\n",
            "허졉\n",
            "허좁\n",
            "헐렁보지\n",
            "혀로보지핧기\n",
            "호냥년\n",
            "호로\n",
            "호로새끼\n",
            "호로자슥\n",
            "호로자식\n",
            "호로짜식\n",
            "호루자슥\n",
            "호졉\n",
            "호좁\n",
            "후라덜넘\n",
            "후장\n",
            "후장꽂아\n",
            "후장뚫어\n",
            "흐접\n",
            "흐젚\n",
            "흐졉\n",
            "bitch\n",
            "fuck\n",
            "fuckyou\n",
            "nflavor\n",
            "penis\n",
            "pennis\n",
            "pussy\n",
            "sex\n"
          ]
        }
      ]
    },
    {
      "cell_type": "code",
      "source": [
        "type(badwords)"
      ],
      "metadata": {
        "colab": {
          "base_uri": "https://localhost:8080/"
        },
        "id": "PQDNoGnWRFEA",
        "outputId": "2dee3ed0-9cb9-45ed-bbcf-0742fe582186"
      },
      "execution_count": null,
      "outputs": [
        {
          "output_type": "execute_result",
          "data": {
            "text/plain": [
              "str"
            ]
          },
          "metadata": {},
          "execution_count": 3
        }
      ]
    },
    {
      "cell_type": "code",
      "source": [
        "#테스트할 문장들\n",
        "test_good=\"이 동영상은 카카오톡 사용법에 대한 내용입니다. 유익했으면 좋겠네요.\" #유해하지 않은 문장\n",
        "test_bad=\"이 동영상은 카카오톡 사용법에 대한 시발입니다.\" #유해한 문장\n",
        "test_sen=\"이동영상은카카오톡사용법에대한영상입니다.\" #유해하지 않은 문장+띄어쓰기가 되어 있지 않음"
      ],
      "metadata": {
        "id": "uBsDuuU0JvOa"
      },
      "execution_count": null,
      "outputs": []
    },
    {
      "cell_type": "code",
      "source": [
        "!pip install konlpy\n",
        "!pip install Counter"
      ],
      "metadata": {
        "colab": {
          "base_uri": "https://localhost:8080/"
        },
        "id": "P0D3aEjKjVzu",
        "outputId": "17a8ca33-72f9-4e5b-bbe4-b715bc76d52f"
      },
      "execution_count": null,
      "outputs": [
        {
          "output_type": "stream",
          "name": "stdout",
          "text": [
            "Looking in indexes: https://pypi.org/simple, https://us-python.pkg.dev/colab-wheels/public/simple/\n",
            "Collecting konlpy\n",
            "  Downloading konlpy-0.6.0-py2.py3-none-any.whl (19.4 MB)\n",
            "\u001b[K     |████████████████████████████████| 19.4 MB 1.2 MB/s \n",
            "\u001b[?25hRequirement already satisfied: lxml>=4.1.0 in /usr/local/lib/python3.7/dist-packages (from konlpy) (4.2.6)\n",
            "Collecting JPype1>=0.7.0\n",
            "  Downloading JPype1-1.4.0-cp37-cp37m-manylinux_2_5_x86_64.manylinux1_x86_64.whl (453 kB)\n",
            "\u001b[K     |████████████████████████████████| 453 kB 56.6 MB/s \n",
            "\u001b[?25hRequirement already satisfied: numpy>=1.6 in /usr/local/lib/python3.7/dist-packages (from konlpy) (1.21.6)\n",
            "Requirement already satisfied: typing-extensions in /usr/local/lib/python3.7/dist-packages (from JPype1>=0.7.0->konlpy) (4.1.1)\n",
            "Installing collected packages: JPype1, konlpy\n",
            "Successfully installed JPype1-1.4.0 konlpy-0.6.0\n"
          ]
        }
      ]
    },
    {
      "cell_type": "code",
      "source": [
        "#문장에서 명사만 추출\n",
        "from konlpy.tag import Okt\n",
        "from collections import Counter\n",
        "\n",
        "sent=test_sen #테스트할 문장\n",
        "\n",
        "## Okt 클래스 객체 만들기\n",
        "okt = Okt()\n",
        "\n",
        "## Okt 형태소 분석기를 통해 문장 안에있는 명사들을 추출\n",
        "target_noun=okt.nouns(sent)\n",
        "print(target_noun)"
      ],
      "metadata": {
        "colab": {
          "base_uri": "https://localhost:8080/"
        },
        "id": "_kWiR70cnUho",
        "outputId": "25eac874-bf31-49e4-e076-b2f26f43bad2"
      },
      "execution_count": null,
      "outputs": [
        {
          "output_type": "stream",
          "name": "stdout",
          "text": [
            "['동영상', '카카오', '톡', '용법', '영상']\n"
          ]
        }
      ]
    },
    {
      "cell_type": "code",
      "source": [
        "#비속어가 들어있는지 판단\n",
        "badword=badwords.splitlines() #비속어 목록을 스트링에서 리스트형으로 변경\n",
        "\n",
        "is_toxic=False\n",
        "\n",
        "for item in badword:    \n",
        "    if item in target_noun:\n",
        "      print(\"유해하다고 판단되는 단어 : \",item)\n",
        "      is_toxic=True\n",
        "\n",
        "if is_toxic:\n",
        "  print(\"유해한 문장입니다.\")\n",
        "else:\n",
        "  print(\"유해하지 않은 문장입니다.\")\n"
      ],
      "metadata": {
        "colab": {
          "base_uri": "https://localhost:8080/"
        },
        "id": "jl_PWrwrSYzp",
        "outputId": "304ac5d5-9cb2-4d30-e082-d32d4f49e677"
      },
      "execution_count": null,
      "outputs": [
        {
          "output_type": "stream",
          "name": "stdout",
          "text": [
            "유해하지 않은 문장입니다.\n"
          ]
        }
      ]
    },
    {
      "cell_type": "markdown",
      "source": [
        "키워드 추출"
      ],
      "metadata": {
        "id": "X1VxFwsqo_N5"
      }
    },
    {
      "cell_type": "code",
      "source": [
        "sen=\"오늘 두 번째 시간입니다.지난 시간에는 저희가 한 학기 동안 어떤 주제들을 공부하게 될 것인지에 대해서 말씀을 드렸고요.그러고 나서는 행복이라고 하는 이 주제가 특별히 이 시기에 중요하게 부각이 된 이유 그런 것들을 살펴보았습니다.이제 오늘은 구체적인 주제들로 넘어갈 텐데, 행복의 정의와 측정에 대한 이야기를 해 보려고 합니다. 행복을 어떻게 정의 내릴 것인가? 하는 문제가 사실은 굉장히 중요하고, 근본적인 문제임에도 불구하고 일반인들이 행복을 이야기할 때는 사실 중요하게 다루지 않는 주제이기도 합니다.왜냐하면, 모든 사람의 행복을 잘 알고 있다고 생각하기 때문인데요. 그리고 특별히 이 수업시간에만 던져보고 싶은 질문들로 구성해서 첫 부분을 다루어보려고 합니다. 누구나 던져야 되고 또 던질 수 있는 첫 번째 질문은 행복이 인간의 주관적인 경험 혹은 주관적인 상태인가? 아니면 그런 주관적인 상태를 가능하게 하는 삶의 여러 가지 조건들인가? 다시 말해서 행복이 객관적인 삶의 형편인가 아니면 개인의 주관적인 경험인가라고 하는 부분을 구분해 보는 작업입니다.주변에 있는 분들에게 행복이 무엇인지 한번 여러분이 질문을 해 보시면 어떤 분들은 이렇게 이야기를 합니다.‘몸이 아프지 않고, 식구들이 건강하면 그게 행복이다.’라고 이야기를 합니다. 또 어떤 분은 열심히 일을 해서 돈을 많이 벌고 승진하면 그게 또 행복이라고 이야기를 합니다. 그런데 그 질문을 액면 그대로 받아들이다 보면 어떤 문제가 발생하게 되느냐면, 행복을 정의하는 것들이 굉장히 많아지게 되는 거죠. 예를 들면 건강도 있고 승진도 있고 또 여러 가지 좋은 환경에서 한 다양한 것들이 포함되기 때문에 ‘과연 그것이 행복일까?’라고 하는 질문을 갖게 됩니다. 그래서 특별히 심리학에서는 행복을 그 자체로, 사람들의 주관적인 경험 그 자체와 그런 행복을 가능하게 하는 조건들을 구분해 보는 그 작업을 굉장히 중요하게 생각합니다. 다시 말해서 행복의 조건과 행복 그 자체는 다르다는 입장을 가지고 있습니다. 따라서 몸이 건강하거나 또는 승진을 하거나 돈을 많이 벌거나 하는 것들은 행복이라고 하는 것을 가능하게 하는 객관적인 조건이지, 행복 그 자체는 아니라고 하는 입장을 가지고 있습니다. 따라서 이번 학기 동안에 저희가 이 수업시간에 행복을 이야기할 때는 행복의 조건이 아닌, 행복 자체에 대한 이야기를 하려고 합니다. 그러면 그 행복 자체가 무엇인지는 나중에 다시 정의 내리도록 할 텐데요. 심리학이 아닌 다른 학문 분야에서는 지금 제가 말씀 드린 것과는 조금 다른 입장을 가지고 있습니다. 행복을 개인의 주관적인 경험으로만 정의 내리게 되면, 여러 가지 또 문제에 부딪히는 면들이 있습니다. 예를 들면, 사람들마다 경험하는 주관적인 경험이라는 게 다 다르기 때문에 과연 그것을 제대로 측정할 수 있는지에 대한 문제가 제기됩니다. 따라서 행복을 주관적으로 측정하는 것에 대해서 신뢰할 수 없다는 입장을 가지고 있고, 따라서 여러 가지 다른 학문 분야에서는 사람들의 삶을 소위 행복하게 만드는 외적인 조건들을 행복의 정의 속에 포함시키려는 입장을 가지고 있습니다. 특별히 이런 후자의 입장에서 인간의 행복을 이야기할 때 사용하는 용어는 삶의 질, 영어로 얘기하게 되면 quality of life라는 말을 쓰게 됩니다. 또 한편, 삶의 질이라는 말을 쓰기도 하지만, 요즘 우리가 흔히 듣고 있는 웰빙이라고 하는 이 말도 약간 삶의 질에 가까운 의미를 가지고 있습니다. 따라서 학문 분야에서 이렇게 두 가지의 입장 차이가 있다는 점을 먼저 소개를 하고, 적어도 이 수업시간에는 행복을 행복의 조건, 삶의 질과 분리시켜서 인간의 주관적인 경험에 국한해서 행복을 정의한다는 점을 가정한 이후에 이 강의를 진행해 보도록 하겠습니다.\""
      ],
      "metadata": {
        "id": "f9uS2-GxULjQ"
      },
      "execution_count": null,
      "outputs": []
    },
    {
      "cell_type": "code",
      "source": [
        "sen2=\"이제부터는 클라우드 컴퓨팅에서 사용되고 있는 핵심 기술에 대해서 살펴보도록 하겠습니다. 먼저 클라우드 컴퓨팅의 탄생에 기여한 기존의 기술들에 대해서 살펴보고요. 그런 다음 클라우드 컴퓨팅의 실현에 필요한 핵심 기술에 대해서 학습하겠습니다. 먼저 클라우드 컴퓨팅이 나오게 되기까지 컴퓨팅 환경이 그동안 어떻게 변화해 왔는지 알아보겠습니다. 화면의 그림이 이를 설명해 주고 있는데요. 화면의 그림의 메인프레임에서 클라이언트-서버 방식으로 변화한 컴퓨팅 환경이 인터넷을 통해 확산되고, 가상화 기술이 발전함에 따라서 이 기술이 컴퓨팅 환경에 전반적으로 적용되면서 클라우드 컴퓨팅이 나오게 되었습니다. 이렇듯 클라우드 컴퓨팅은 어느 날 갑자기 탄생한 기술이 아닙니다. 1960년대 메인프레임부터 시작해서 여러 가지 다양한 컴퓨팅 모델이 시간이 지남에 따라서 기술적으로 진화해 왔습니다. 그러한 진화 속에서 현재의 클라우드 컴퓨팅이 나오게 된 것입니다. 최근 기술에 초점을 맞춰 집중적으로 컴퓨팅 모델을 살펴보면, 1990년대 후반부터 그리드 컴퓨팅 방식의 분산처리 기술과 가상화 기술 그리고 유틸리티 컴퓨팅 방식의 과금 모델, 즉 사용한 만큼 비용을 지불하는 방식이 융합되어 발전하면서 클라우드 컴퓨팅으로 발전되었다고 볼 수 있습니다. 특히 가상화 기술은 클라우드 컴퓨팅 탄생과 성장에 있어서 매우 큰 축을 담당하고 있습니다. 서버, 플랫폼, 스토리지, 애플리케이션 등 다양한 컴퓨팅 요소에 가상화 기술이 적용돼서 가상 서버, 가상 플랫폼, 가상 스토리지 등 물리적 자원을 논리적으로 분할하여 활용하는 데 적용되어 왔습니다.\""
      ],
      "metadata": {
        "id": "Sfa14oSaTZ8v"
      },
      "execution_count": null,
      "outputs": []
    },
    {
      "cell_type": "code",
      "source": [
        "sent=sen2 #테스트할 문장\n",
        "\n",
        "## Okt 클래스 객체 만들기\n",
        "okt = Okt()\n",
        "\n",
        "## Okt 형태소 분석기를 통해 문장 안에있는 명사들을 추출\n",
        "target_noun=okt.nouns(sent)\n",
        "count=Counter(target_noun)\n",
        "\n",
        "print(target_noun)"
      ],
      "metadata": {
        "colab": {
          "base_uri": "https://localhost:8080/"
        },
        "id": "WDPGoemyKjJc",
        "outputId": "af7f3f8e-1287-4e20-a4c8-628d71bb279a"
      },
      "execution_count": null,
      "outputs": [
        {
          "output_type": "stream",
          "name": "stdout",
          "text": [
            "['이제', '클라우드', '컴퓨팅', '사용', '핵심', '기술', '대해', '먼저', '클라우드', '컴퓨팅', '탄생', '기여', '기존', '기술', '대해', '다음', '클라우드', '컴퓨팅', '실현', '핵심', '기술', '대해', '학습', '먼저', '클라우드', '컴퓨팅', '컴퓨팅', '환경', '그동안', '변화', '화면', '그림', '설명', '화면', '그림', '메인프레임', '클라이언트', '서버', '방식', '변화', '컴퓨팅', '환경', '인터넷', '통해', '확산', '가상화', '기술', '발전', '함', '따라서', '이', '기술', '컴퓨팅', '환경', '전반', '적용', '클라우드', '컴퓨팅', '클라우드', '컴퓨팅', '날', '갑자기', '탄생', '기술', '메인프레임', '시작', '여러', '가지', '컴퓨팅', '모델', '시간', '지남', '따라서', '기술', '진화', '진화', '속', '현재', '클라우드', '컴퓨팅', '것', '최근', '기술', '초점', '집중', '컴퓨팅', '모델', '후반', '그리드', '컴퓨팅', '방식', '분산', '처리', '기술', '가상화', '기술', '유틸리티', '컴퓨팅', '방식', '과금', '모델', '즉', '사용', '만큼', '비용', '지불', '방식', '융합', '발전', '클라우드', '컴퓨팅', '발전', '볼', '수', '가상화', '기술', '클라우드', '컴퓨팅', '탄생', '성장', '매우', '축', '담당', '서버', '플랫폼', '스토리', '애플리케이션', '등', '컴퓨팅', '요소', '가상화', '기술', '적용', '가상', '서버', '가상', '플랫폼', '가상', '스토리', '등', '물리', '자원', '논리', '분할', '활용', '데', '적용']\n"
          ]
        }
      ]
    },
    {
      "cell_type": "code",
      "source": [
        "#비속어가 들어있는지 판단\n",
        "badword=badwords.splitlines() #비속어 목록을 스트링에서 리스트형으로 변경\n",
        "\n",
        "is_toxic=False\n",
        "\n",
        "for item in badword:    \n",
        "    if item in target_noun:\n",
        "      print(\"유해하다고 판단되는 단어 : \",item)\n",
        "      is_toxic=True\n",
        "\n",
        "if is_toxic:\n",
        "  print(\"유해한 문장입니다.\")\n",
        "else:\n",
        "  print(\"유해하지 않은 문장입니다.\")\n"
      ],
      "metadata": {
        "colab": {
          "base_uri": "https://localhost:8080/"
        },
        "id": "S9pbcJWmK1DQ",
        "outputId": "7623b33a-fe93-4aff-8e45-a00da5ee4cf8"
      },
      "execution_count": null,
      "outputs": [
        {
          "output_type": "stream",
          "name": "stdout",
          "text": [
            "유해하지 않은 문장입니다.\n"
          ]
        }
      ]
    },
    {
      "cell_type": "code",
      "source": [
        "#명사형태 중에서 빈도수 많은 단어를 체크\n",
        "noun_list=count.most_common(10) #상위 10개의 단어\n",
        "print(noun_list)"
      ],
      "metadata": {
        "colab": {
          "base_uri": "https://localhost:8080/"
        },
        "id": "mzJzZWpgOG6z",
        "outputId": "4a839070-43f0-4ee8-ef6e-3b7f24b177db"
      },
      "execution_count": null,
      "outputs": [
        {
          "output_type": "stream",
          "name": "stdout",
          "text": [
            "[('컴퓨팅', 17), ('기술', 12), ('클라우드', 9), ('방식', 4), ('가상화', 4), ('대해', 3), ('탄생', 3), ('환경', 3), ('서버', 3), ('발전', 3)]\n"
          ]
        }
      ]
    },
    {
      "cell_type": "code",
      "source": [
        "#문장을 요약할 ratio 비율 구하기\n",
        "#문장 개수를 구한 후, ratio는 문장 개수의 1%로 설정\n",
        "#10문장->1문장, 50문장->5문장, 100문장->10문장\n",
        "\n",
        "count_sen=sent.count('.')\n",
        "jari=int(len(str(count_sen)))\n",
        "ratios=round(0.1**(jari-1),jari)\n",
        "print(ratios)"
      ],
      "metadata": {
        "colab": {
          "base_uri": "https://localhost:8080/"
        },
        "id": "W7hnziCbV4P9",
        "outputId": "71b8fd1f-855a-45fb-fe5c-8f48569fb878"
      },
      "execution_count": null,
      "outputs": [
        {
          "output_type": "stream",
          "name": "stdout",
          "text": [
            "0.1\n"
          ]
        }
      ]
    },
    {
      "cell_type": "code",
      "source": [
        "from gensim.summarization.summarizer import summarize\n",
        "sentence1=summarize(sent,ratio=ratios)\n",
        "print(sentence1)"
      ],
      "metadata": {
        "colab": {
          "base_uri": "https://localhost:8080/"
        },
        "id": "cm3452qoO5Dz",
        "outputId": "30d19ac0-9123-4956-c257-0fce2450c72d"
      },
      "execution_count": null,
      "outputs": [
        {
          "output_type": "stream",
          "name": "stdout",
          "text": [
            "화면의 그림의 메인프레임에서 클라이언트-서버 방식으로 변화한 컴퓨팅 환경이 인터넷을 통해 확산되고, 가상화 기술이 발전함에 따라서 이 기술이 컴퓨팅 환경에 전반적으로 적용되면서 클라우드 컴퓨팅이 나오게 되었습니다.\n"
          ]
        }
      ]
    },
    {
      "cell_type": "code",
      "source": [
        "test_noun=okt.nouns(sentence1)\n",
        "print(test_noun)"
      ],
      "metadata": {
        "colab": {
          "base_uri": "https://localhost:8080/"
        },
        "id": "hsNPEM0IQPrs",
        "outputId": "8db9b147-bcd9-4a40-ee3c-a0921519b7ff"
      },
      "execution_count": null,
      "outputs": [
        {
          "output_type": "stream",
          "name": "stdout",
          "text": [
            "['화면', '그림', '메인프레임', '클라이언트', '서버', '방식', '변화', '컴퓨팅', '환경', '인터넷', '통해', '확산', '가상화', '기술', '발전', '함', '따라서', '이', '기술', '컴퓨팅', '환경', '전반', '적용', '클라우드', '컴퓨팅']\n"
          ]
        }
      ]
    },
    {
      "cell_type": "code",
      "source": [
        "#명사 추출에 대한 빈도수 높은 단어 && 요약된 문장에서 추출된 명사\n",
        "for i,j in noun_list:\n",
        "  if i in test_noun:\n",
        "      print(i)"
      ],
      "metadata": {
        "colab": {
          "base_uri": "https://localhost:8080/"
        },
        "id": "UcZKQv1kQVhx",
        "outputId": "070bd1aa-b487-47e9-8613-b3585d5c4c11"
      },
      "execution_count": null,
      "outputs": [
        {
          "output_type": "stream",
          "name": "stdout",
          "text": [
            "컴퓨팅\n",
            "기술\n",
            "클라우드\n",
            "방식\n",
            "가상화\n",
            "환경\n",
            "서버\n",
            "발전\n"
          ]
        }
      ]
    },
    {
      "cell_type": "code",
      "source": [
        "#한글자로 구성된 단어는 제외하기\n",
        "for i,j in noun_list:\n",
        "  if len(i)>1:\n",
        "    if i in test_noun:\n",
        "        print(i)"
      ],
      "metadata": {
        "colab": {
          "base_uri": "https://localhost:8080/"
        },
        "id": "wdl_5GTiSErH",
        "outputId": "d101b570-71e0-4a1a-c909-d87c27b817dd"
      },
      "execution_count": null,
      "outputs": [
        {
          "output_type": "stream",
          "name": "stdout",
          "text": [
            "컴퓨팅\n",
            "기술\n",
            "클라우드\n",
            "방식\n",
            "가상화\n",
            "환경\n",
            "서버\n",
            "발전\n"
          ]
        }
      ]
    },
    {
      "cell_type": "code",
      "source": [
        ""
      ],
      "metadata": {
        "id": "cBsXZbJNSmkm"
      },
      "execution_count": null,
      "outputs": []
    }
  ]
}